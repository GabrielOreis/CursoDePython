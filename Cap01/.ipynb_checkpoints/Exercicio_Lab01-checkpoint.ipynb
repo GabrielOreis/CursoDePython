{
 "cells": [
  {
   "cell_type": "markdown",
   "id": "8bed32bd",
   "metadata": {},
   "source": [
    "# Python Fundamentos - Capítulo 2"
   ]
  },
  {
   "cell_type": "code",
   "execution_count": null,
   "id": "52817a41",
   "metadata": {},
   "outputs": [],
   "source": [
    "# Exercício 1 - Imprima na tela os números de 1 a 10. Use uma lista para armazenar os números."
   ]
  },
  {
   "cell_type": "code",
   "execution_count": 24,
   "id": "9738ee72",
   "metadata": {},
   "outputs": [
    {
     "name": "stdout",
     "output_type": "stream",
     "text": [
      "[1, 2, 3, 4, 5, 6, 7, 8, 9, 10]\n"
     ]
    }
   ],
   "source": [
    "lista = [1,2,3,4,5,6,7,8,9,10]\n",
    "print(lista)"
   ]
  },
  {
   "cell_type": "code",
   "execution_count": 4,
   "id": "c4820724",
   "metadata": {},
   "outputs": [],
   "source": [
    "# Exercício 2 - Crie uma lista de 5 objetos e imprima na tela"
   ]
  },
  {
   "cell_type": "code",
   "execution_count": 25,
   "id": "3f47c575",
   "metadata": {},
   "outputs": [
    {
     "data": {
      "text/plain": [
       "['teste', 5, 5.2, 'teste2', 10]"
      ]
     },
     "execution_count": 25,
     "metadata": {},
     "output_type": "execute_result"
    }
   ],
   "source": [
    "lista2 = ['teste',5,5.2,'teste2',10]\n",
    "lista2"
   ]
  },
  {
   "cell_type": "code",
   "execution_count": 6,
   "id": "8bfb26b4",
   "metadata": {},
   "outputs": [],
   "source": [
    "# Exercício 3 - Crie duas strings e concatene as duas em uma terceira string"
   ]
  },
  {
   "cell_type": "code",
   "execution_count": 9,
   "id": "7d19d18c",
   "metadata": {},
   "outputs": [
    {
     "name": "stdout",
     "output_type": "stream",
     "text": [
      "Boa Noite\n"
     ]
    }
   ],
   "source": [
    "texto1 = 'Boa '\n",
    "texto2 = 'Noite'\n",
    "texto3 = texto1 + texto2\n",
    "print(texto3)"
   ]
  },
  {
   "cell_type": "code",
   "execution_count": 10,
   "id": "2ca0d3e7",
   "metadata": {},
   "outputs": [],
   "source": [
    "# Exercício 4 - Crie uma tupla com os seguintes elementos: 1, 2, 2, 3, 4, 4, 4, 5 e depois utilize a função count do \n",
    "# objeto tupla para verificar quantas vezes o número 4 aparece na tupla"
   ]
  },
  {
   "cell_type": "code",
   "execution_count": 16,
   "id": "0357a333",
   "metadata": {},
   "outputs": [
    {
     "name": "stdout",
     "output_type": "stream",
     "text": [
      "3\n"
     ]
    }
   ],
   "source": [
    "tupla = (1, 2, 2, 3, 4, 4, 4, 5 )\n",
    "print( tupla.count(4))"
   ]
  },
  {
   "cell_type": "code",
   "execution_count": 17,
   "id": "649fe360",
   "metadata": {},
   "outputs": [],
   "source": [
    "# Exercício 5 - Crie um dicionário vazio e imprima na tela"
   ]
  },
  {
   "cell_type": "code",
   "execution_count": 23,
   "id": "92a795f8",
   "metadata": {},
   "outputs": [
    {
     "data": {
      "text/plain": [
       "{}"
      ]
     },
     "execution_count": 23,
     "metadata": {},
     "output_type": "execute_result"
    }
   ],
   "source": [
    "dic = {}\n",
    "dic"
   ]
  },
  {
   "cell_type": "code",
   "execution_count": 26,
   "id": "933f94ca",
   "metadata": {},
   "outputs": [],
   "source": [
    "# Exercício 6 - Crie um dicionário com 3 chaves e 3 valores e imprima na tela"
   ]
  },
  {
   "cell_type": "code",
   "execution_count": 27,
   "id": "7bac0227",
   "metadata": {},
   "outputs": [
    {
     "name": "stdout",
     "output_type": "stream",
     "text": [
      "{'chave1': 10, 'chave2': 20, 'chave3': 30}\n"
     ]
    }
   ],
   "source": [
    "dic1 = {'chave1':10,'chave2':20,'chave3':30}\n",
    "print(dic1)"
   ]
  },
  {
   "cell_type": "code",
   "execution_count": 28,
   "id": "4445f4f6",
   "metadata": {},
   "outputs": [],
   "source": [
    "# Exercício 7 - Adicione mais um elemento ao dicionário criado no exercício anterior e imprima na tela"
   ]
  },
  {
   "cell_type": "code",
   "execution_count": 30,
   "id": "3154e1b6",
   "metadata": {},
   "outputs": [
    {
     "name": "stdout",
     "output_type": "stream",
     "text": [
      "{'chave1': 10, 'chave2': 20, 'chave3': 30, 'chave4': 40}\n"
     ]
    }
   ],
   "source": [
    "dic1['chave4'] = 40\n",
    "print(dic1)"
   ]
  },
  {
   "cell_type": "code",
   "execution_count": 31,
   "id": "243ba8bc",
   "metadata": {},
   "outputs": [],
   "source": [
    "# Exercício 8 - Crie um dicionário com 3 chaves e 3 valores. Um dos valores deve ser uma lista de 2 elementos numéricos. \n",
    "# Imprima o dicionário na tela."
   ]
  },
  {
   "cell_type": "code",
   "execution_count": 32,
   "id": "d54cad69",
   "metadata": {},
   "outputs": [
    {
     "data": {
      "text/plain": [
       "{'chave1': 10, 'chave2': 20, 'chave3': [10, 20]}"
      ]
     },
     "execution_count": 32,
     "metadata": {},
     "output_type": "execute_result"
    }
   ],
   "source": [
    "dic2 = {'chave1':10,'chave2':20,'chave3':[10,20]}\n",
    "dic2"
   ]
  },
  {
   "cell_type": "code",
   "execution_count": 33,
   "id": "abde7363",
   "metadata": {},
   "outputs": [],
   "source": [
    "# Exercício 9 - Crie uma lista de 4 elementos. O primeiro elemento deve ser uma string, \n",
    "# o segundo uma tupla de 2 elementos, o terceiro um dcionário com 2 chaves e 2 valores e \n",
    "# o quarto elemento um valor do tipo float.\n",
    "# Imprima a lista na tela."
   ]
  },
  {
   "cell_type": "code",
   "execution_count": 36,
   "id": "d10a4d4d",
   "metadata": {},
   "outputs": [
    {
     "name": "stdout",
     "output_type": "stream",
     "text": [
      "['teste', (2, 3), {'chave1': 10, 'chave2': 20}, 5.5]\n"
     ]
    }
   ],
   "source": [
    "lista3 = ['teste',(2,3),{'chave1':10,'chave2':20},5.5]\n",
    "print(lista3)"
   ]
  },
  {
   "cell_type": "code",
   "execution_count": 38,
   "id": "9bfe5727",
   "metadata": {},
   "outputs": [],
   "source": [
    "# Exercício 10 - Considere a string abaixo. Imprima na tela apenas os caracteres da posição 1 a 18.\n",
    "frase = 'Cientista de Dados é o profissional mais sexy do século XXI'"
   ]
  },
  {
   "cell_type": "code",
   "execution_count": 44,
   "id": "963f9cde",
   "metadata": {},
   "outputs": [
    {
     "data": {
      "text/plain": [
       "'Cientista de Dados'"
      ]
     },
     "execution_count": 44,
     "metadata": {},
     "output_type": "execute_result"
    }
   ],
   "source": [
    "resumo = frase[0:18]\n",
    "resumo"
   ]
  }
 ],
 "metadata": {
  "kernelspec": {
   "display_name": "Python 3",
   "language": "python",
   "name": "python3"
  },
  "language_info": {
   "codemirror_mode": {
    "name": "ipython",
    "version": 3
   },
   "file_extension": ".py",
   "mimetype": "text/x-python",
   "name": "python",
   "nbconvert_exporter": "python",
   "pygments_lexer": "ipython3",
   "version": "3.8.8"
  }
 },
 "nbformat": 4,
 "nbformat_minor": 5
}
