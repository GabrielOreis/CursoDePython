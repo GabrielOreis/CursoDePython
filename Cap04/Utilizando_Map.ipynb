{
 "cells": [
  {
   "cell_type": "markdown",
   "id": "2b78494e",
   "metadata": {},
   "source": [
    "### Map"
   ]
  },
  {
   "cell_type": "code",
   "execution_count": 1,
   "id": "6d17ad89",
   "metadata": {},
   "outputs": [],
   "source": [
    "#Criando Duas funções\n",
    "\n",
    "#Função 1 - Recebe uma temperadura como parâmetro e retorna a temperatura em Fahrenheit\n",
    "def fahrenheit(T):\n",
    "    return ((float(9)/5)*T +32)\n",
    "\n",
    "#Função 2 - Recebe uma temperadura como parâmetro e retorna a temperatura em Celsius\n",
    "def celsius(T):\n",
    "    return (float(5)/9)*(T-32)\n"
   ]
  },
  {
   "cell_type": "code",
   "execution_count": 3,
   "id": "342feb8e",
   "metadata": {},
   "outputs": [],
   "source": [
    "#criando uma lista\n",
    "temperaturas = [0,22.5,40,100]"
   ]
  },
  {
   "cell_type": "code",
   "execution_count": 5,
   "id": "32e0e5d0",
   "metadata": {},
   "outputs": [
    {
     "data": {
      "text/plain": [
       "<map at 0x1148d3b4d90>"
      ]
     },
     "execution_count": 5,
     "metadata": {},
     "output_type": "execute_result"
    }
   ],
   "source": [
    "#Aplicando a função a cada elemento da lista de temperaturas.\n",
    "# Em Python 3, a função map() retorna um iterador\n",
    "map(fahrenheit,temperaturas)"
   ]
  },
  {
   "cell_type": "code",
   "execution_count": 7,
   "id": "a7593a00",
   "metadata": {},
   "outputs": [
    {
     "data": {
      "text/plain": [
       "[32.0, 72.5, 104.0, 212.0]"
      ]
     },
     "execution_count": 7,
     "metadata": {},
     "output_type": "execute_result"
    }
   ],
   "source": [
    "# Função map() retornando a lista de temperaturas convertidas em Fahrenheit\n",
    "list(map(fahrenheit,temperaturas))"
   ]
  },
  {
   "cell_type": "code",
   "execution_count": 8,
   "id": "f63357bc",
   "metadata": {},
   "outputs": [
    {
     "name": "stdout",
     "output_type": "stream",
     "text": [
      "32.0\n",
      "72.5\n",
      "104.0\n",
      "212.0\n"
     ]
    }
   ],
   "source": [
    "for temp in map(fahrenheit,temperaturas):\n",
    "    print(temp)"
   ]
  },
  {
   "cell_type": "code",
   "execution_count": 9,
   "id": "b14d7e4f",
   "metadata": {},
   "outputs": [
    {
     "data": {
      "text/plain": [
       "[-17.77777777777778, -5.277777777777778, 4.444444444444445, 37.77777777777778]"
      ]
     },
     "execution_count": 9,
     "metadata": {},
     "output_type": "execute_result"
    }
   ],
   "source": [
    "#Convertendo para Celsius\n",
    "list(map(celsius,temperaturas))"
   ]
  },
  {
   "cell_type": "code",
   "execution_count": 10,
   "id": "f3dd079e",
   "metadata": {},
   "outputs": [
    {
     "data": {
      "text/plain": [
       "[-17.77777777777778, -5.277777777777778, 4.444444444444445, 37.77777777777778]"
      ]
     },
     "execution_count": 10,
     "metadata": {},
     "output_type": "execute_result"
    }
   ],
   "source": [
    "#Usando Lambda\n",
    "list(map(lambda x: (5.0/9)*(x-32),temperaturas))"
   ]
  },
  {
   "cell_type": "code",
   "execution_count": null,
   "id": "15419e65",
   "metadata": {},
   "outputs": [],
   "source": [
    "#Somando os elementos de 2 listas\n",
    "a =[1,2,3,4]\n",
    "b = [5,6,7,8]\n"
   ]
  },
  {
   "cell_type": "code",
   "execution_count": 14,
   "id": "09847ecc",
   "metadata": {},
   "outputs": [
    {
     "data": {
      "text/plain": [
       "[6, 8, 10, 12]"
      ]
     },
     "execution_count": 14,
     "metadata": {},
     "output_type": "execute_result"
    }
   ],
   "source": [
    "list(map(lambda x,y:x+y,a,b))"
   ]
  },
  {
   "cell_type": "code",
   "execution_count": 11,
   "id": "f2daa49d",
   "metadata": {},
   "outputs": [],
   "source": [
    "#Somando os elementos de 3 listas\n",
    "a =[1,2,3,4]\n",
    "b = [5,6,7,8]\n",
    "c = [9,10,11,12]"
   ]
  },
  {
   "cell_type": "code",
   "execution_count": 12,
   "id": "a14526f9",
   "metadata": {},
   "outputs": [
    {
     "data": {
      "text/plain": [
       "[15, 18, 21, 24]"
      ]
     },
     "execution_count": 12,
     "metadata": {},
     "output_type": "execute_result"
    }
   ],
   "source": [
    "list(map(lambda x,y,z:x+y+z,a,b,c))"
   ]
  }
 ],
 "metadata": {
  "kernelspec": {
   "display_name": "Python 3",
   "language": "python",
   "name": "python3"
  },
  "language_info": {
   "codemirror_mode": {
    "name": "ipython",
    "version": 3
   },
   "file_extension": ".py",
   "mimetype": "text/x-python",
   "name": "python",
   "nbconvert_exporter": "python",
   "pygments_lexer": "ipython3",
   "version": "3.8.8"
  }
 },
 "nbformat": 4,
 "nbformat_minor": 5
}
