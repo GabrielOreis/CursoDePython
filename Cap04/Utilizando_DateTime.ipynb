{
 "cells": [
  {
   "cell_type": "markdown",
   "id": "18591abb",
   "metadata": {},
   "source": [
    "## Data Time\n",
    "\n",
    "Esse módulo permite a manipulação de datas em Python"
   ]
  },
  {
   "cell_type": "code",
   "execution_count": 1,
   "id": "dddfe9cf",
   "metadata": {},
   "outputs": [],
   "source": [
    "import datetime"
   ]
  },
  {
   "cell_type": "code",
   "execution_count": 2,
   "id": "c64c97b8",
   "metadata": {},
   "outputs": [],
   "source": [
    "agora = datetime.datetime.now()"
   ]
  },
  {
   "cell_type": "code",
   "execution_count": 3,
   "id": "e136ab7b",
   "metadata": {},
   "outputs": [
    {
     "data": {
      "text/plain": [
       "datetime.datetime(2021, 11, 2, 21, 42, 26, 259627)"
      ]
     },
     "execution_count": 3,
     "metadata": {},
     "output_type": "execute_result"
    }
   ],
   "source": [
    "agora"
   ]
  },
  {
   "cell_type": "code",
   "execution_count": 4,
   "id": "b3ec838a",
   "metadata": {},
   "outputs": [],
   "source": [
    "t = datetime.time(7,43,28)"
   ]
  },
  {
   "cell_type": "code",
   "execution_count": 5,
   "id": "4552bada",
   "metadata": {},
   "outputs": [
    {
     "name": "stdout",
     "output_type": "stream",
     "text": [
      "07:43:28\n"
     ]
    }
   ],
   "source": [
    "print(t)"
   ]
  },
  {
   "cell_type": "code",
   "execution_count": 6,
   "id": "7e93dc90",
   "metadata": {},
   "outputs": [
    {
     "name": "stdout",
     "output_type": "stream",
     "text": [
      "Hora : 7\n",
      "Minuto : 43\n",
      "Segundo : 28\n",
      "Milisegundo : 0\n"
     ]
    }
   ],
   "source": [
    "print('Hora :',t.hour)\n",
    "print('Minuto :',t.minute)\n",
    "print('Segundo :',t.second)\n",
    "print('Milisegundo :',t.microsecond)"
   ]
  },
  {
   "cell_type": "code",
   "execution_count": 8,
   "id": "f4ab4511",
   "metadata": {},
   "outputs": [
    {
     "name": "stdout",
     "output_type": "stream",
     "text": [
      "00:00:00\n"
     ]
    }
   ],
   "source": [
    "print(datetime.time.min)"
   ]
  },
  {
   "cell_type": "code",
   "execution_count": 9,
   "id": "6b3fb235",
   "metadata": {},
   "outputs": [],
   "source": [
    "hoje = datetime.date.today()"
   ]
  },
  {
   "cell_type": "code",
   "execution_count": 10,
   "id": "35e5925e",
   "metadata": {},
   "outputs": [
    {
     "name": "stdout",
     "output_type": "stream",
     "text": [
      "2021-11-02\n",
      "ctime : Tue Nov  2 00:00:00 2021\n",
      "Ano : 2021\n",
      "Mês : 11\n",
      "Dia : 2\n"
     ]
    }
   ],
   "source": [
    "print(hoje)\n",
    "print('ctime :',hoje.ctime())\n",
    "print('Ano :',hoje.year)\n",
    "print('Mês :',hoje.month)\n",
    "print('Dia :',hoje.day)"
   ]
  },
  {
   "cell_type": "code",
   "execution_count": 11,
   "id": "e441b8b3",
   "metadata": {},
   "outputs": [
    {
     "name": "stdout",
     "output_type": "stream",
     "text": [
      "d1 : 2020-11-02\n"
     ]
    }
   ],
   "source": [
    "d1 = datetime.date(2020,11,2)\n",
    "print('d1 :',d1)"
   ]
  },
  {
   "cell_type": "code",
   "execution_count": 12,
   "id": "c83bcb7f",
   "metadata": {},
   "outputs": [
    {
     "name": "stdout",
     "output_type": "stream",
     "text": [
      "d2 : 2021-11-02\n"
     ]
    }
   ],
   "source": [
    "d2 = d1.replace(year = 2021)\n",
    "print('d2 :',d2)"
   ]
  },
  {
   "cell_type": "code",
   "execution_count": 13,
   "id": "a41cad2f",
   "metadata": {},
   "outputs": [
    {
     "data": {
      "text/plain": [
       "datetime.timedelta(days=365)"
      ]
     },
     "execution_count": 13,
     "metadata": {},
     "output_type": "execute_result"
    }
   ],
   "source": [
    "# Diferença entre as datas em dias \n",
    "d2 - d1 "
   ]
  }
 ],
 "metadata": {
  "kernelspec": {
   "display_name": "Python 3",
   "language": "python",
   "name": "python3"
  },
  "language_info": {
   "codemirror_mode": {
    "name": "ipython",
    "version": 3
   },
   "file_extension": ".py",
   "mimetype": "text/x-python",
   "name": "python",
   "nbconvert_exporter": "python",
   "pygments_lexer": "ipython3",
   "version": "3.8.8"
  }
 },
 "nbformat": 4,
 "nbformat_minor": 5
}
