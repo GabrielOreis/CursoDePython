{
 "cells": [
  {
   "cell_type": "markdown",
   "id": "a7174017",
   "metadata": {},
   "source": [
    "# Lendo um Arquivo"
   ]
  },
  {
   "cell_type": "code",
   "execution_count": 8,
   "id": "0674a6d7",
   "metadata": {},
   "outputs": [],
   "source": [
    "#Abrindo o arquivo para leitura\n",
    "arq1 = open(\"Arquivos/arquivo1.txt\",\"r\" ,encoding='utf8' )"
   ]
  },
  {
   "cell_type": "code",
   "execution_count": 9,
   "id": "b3e53f2d",
   "metadata": {},
   "outputs": [
    {
     "name": "stdout",
     "output_type": "stream",
     "text": [
      "Python é uma linguagem poderosa! e salve o arquivo.\n"
     ]
    }
   ],
   "source": [
    "#lendo o arquivo\n",
    "print(arq1.read())"
   ]
  },
  {
   "cell_type": "code",
   "execution_count": 10,
   "id": "7f9ee150",
   "metadata": {},
   "outputs": [
    {
     "name": "stdout",
     "output_type": "stream",
     "text": [
      "52\n"
     ]
    }
   ],
   "source": [
    "#Conta numero de caracteres no arquivo\n",
    "print(arq1.tell())"
   ]
  },
  {
   "cell_type": "code",
   "execution_count": 11,
   "id": "e94763fd",
   "metadata": {},
   "outputs": [
    {
     "name": "stdout",
     "output_type": "stream",
     "text": [
      "0\n"
     ]
    }
   ],
   "source": [
    "#Retorna Para o Inicio do Arquivo\n",
    "print(arq1.seek(0,0))"
   ]
  },
  {
   "cell_type": "code",
   "execution_count": 12,
   "id": "a1c094d6",
   "metadata": {},
   "outputs": [
    {
     "name": "stdout",
     "output_type": "stream",
     "text": [
      "Python é um\n"
     ]
    }
   ],
   "source": [
    "print(arq1.read(11))"
   ]
  },
  {
   "cell_type": "markdown",
   "id": "ab3f5fe1",
   "metadata": {},
   "source": [
    "# Gravando Informações no Arquivo"
   ]
  },
  {
   "cell_type": "code",
   "execution_count": 13,
   "id": "3708f09c",
   "metadata": {},
   "outputs": [],
   "source": [
    "#Abrindo o arquivo em modo de escrita\n",
    "arq2 = open(\"Arquivos/arquivo1.txt\",\"w\" )"
   ]
  },
  {
   "cell_type": "code",
   "execution_count": 14,
   "id": "68aab6bf",
   "metadata": {},
   "outputs": [
    {
     "data": {
      "text/plain": [
       "39"
      ]
     },
     "execution_count": 14,
     "metadata": {},
     "output_type": "execute_result"
    }
   ],
   "source": [
    "#Escrevendo no arquivo\n",
    "arq2.write('Testando gravação de arquivos em Python ')"
   ]
  },
  {
   "cell_type": "code",
   "execution_count": 16,
   "id": "a554ddab",
   "metadata": {},
   "outputs": [],
   "source": [
    "#fecha o arquivo\n",
    "arq2.close()"
   ]
  },
  {
   "cell_type": "code",
   "execution_count": 18,
   "id": "718d1c4e",
   "metadata": {},
   "outputs": [],
   "source": [
    "#Acrescentando conteúdo\n",
    "arq2 = open(\"Arquivos/arquivo1.txt\",\"a\" )"
   ]
  },
  {
   "cell_type": "code",
   "execution_count": 19,
   "id": "b066b2c6",
   "metadata": {},
   "outputs": [
    {
     "data": {
      "text/plain": [
       "23"
      ]
     },
     "execution_count": 19,
     "metadata": {},
     "output_type": "execute_result"
    }
   ],
   "source": [
    "arq2.write(' Acrescentando conteúdo')"
   ]
  },
  {
   "cell_type": "code",
   "execution_count": 20,
   "id": "64ae2d1b",
   "metadata": {},
   "outputs": [],
   "source": [
    "arq2.close()"
   ]
  },
  {
   "cell_type": "code",
   "execution_count": 28,
   "id": "80bb9063",
   "metadata": {},
   "outputs": [],
   "source": [
    "arq2 = open(\"Arquivos/arquivo1.txt\",\"r\")"
   ]
  },
  {
   "cell_type": "code",
   "execution_count": 29,
   "id": "471ff9e6",
   "metadata": {},
   "outputs": [
    {
     "name": "stdout",
     "output_type": "stream",
     "text": [
      "Testando gravação de arquivos em Python Acrescentando conteúdo\n"
     ]
    }
   ],
   "source": [
    "print(arq2.read())"
   ]
  }
 ],
 "metadata": {
  "kernelspec": {
   "display_name": "Python 3",
   "language": "python",
   "name": "python3"
  },
  "language_info": {
   "codemirror_mode": {
    "name": "ipython",
    "version": 3
   },
   "file_extension": ".py",
   "mimetype": "text/x-python",
   "name": "python",
   "nbconvert_exporter": "python",
   "pygments_lexer": "ipython3",
   "version": "3.8.8"
  }
 },
 "nbformat": 4,
 "nbformat_minor": 5
}
