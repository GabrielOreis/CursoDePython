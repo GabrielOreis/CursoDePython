{
 "cells": [
  {
   "cell_type": "markdown",
   "id": "a7174017",
   "metadata": {},
   "source": [
    "# Lendo um Arquivo"
   ]
  },
  {
   "cell_type": "code",
   "execution_count": 21,
   "id": "0674a6d7",
   "metadata": {},
   "outputs": [],
   "source": [
    "arq1 = open(\"Arquivos/arquivo1.txt\",\"r\" ,encoding='utf8' )"
   ]
  },
  {
   "cell_type": "code",
   "execution_count": 22,
   "id": "b3e53f2d",
   "metadata": {},
   "outputs": [
    {
     "name": "stdout",
     "output_type": "stream",
     "text": [
      "Python é uma linguagem poderosa! e salve o arquivo.\n"
     ]
    }
   ],
   "source": [
    "print(arq1.read())"
   ]
  },
  {
   "cell_type": "code",
   "execution_count": 23,
   "id": "7f9ee150",
   "metadata": {},
   "outputs": [
    {
     "name": "stdout",
     "output_type": "stream",
     "text": [
      "52\n"
     ]
    }
   ],
   "source": [
    "#Conta numero de caracteres no arquivo\n",
    "print(arq1.tell())"
   ]
  },
  {
   "cell_type": "code",
   "execution_count": 27,
   "id": "e94763fd",
   "metadata": {},
   "outputs": [
    {
     "name": "stdout",
     "output_type": "stream",
     "text": [
      "52\n"
     ]
    }
   ],
   "source": [
    "print(arq1.seek(0,1))"
   ]
  }
 ],
 "metadata": {
  "kernelspec": {
   "display_name": "Python 3",
   "language": "python",
   "name": "python3"
  },
  "language_info": {
   "codemirror_mode": {
    "name": "ipython",
    "version": 3
   },
   "file_extension": ".py",
   "mimetype": "text/x-python",
   "name": "python",
   "nbconvert_exporter": "python",
   "pygments_lexer": "ipython3",
   "version": "3.8.8"
  }
 },
 "nbformat": 4,
 "nbformat_minor": 5
}
